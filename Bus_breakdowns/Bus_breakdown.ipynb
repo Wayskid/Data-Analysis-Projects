{
 "cells": [
  {
   "cell_type": "code",
   "execution_count": 1,
   "id": "a47e8484",
   "metadata": {},
   "outputs": [],
   "source": [
    "import numpy as np\n",
    "import pandas as pd\n",
    "import seaborn as sns"
   ]
  },
  {
   "cell_type": "code",
   "execution_count": 2,
   "id": "581e7dec",
   "metadata": {},
   "outputs": [],
   "source": [
    "from datetime import datetime"
   ]
  },
  {
   "cell_type": "code",
   "execution_count": 11,
   "id": "96be3aa3",
   "metadata": {},
   "outputs": [],
   "source": [
    "df= pd.read_csv(\"C:/Users/Ritchie/Documents/Ways Data Analytics/Ways Analytics Files/bus_breakdown.csv\", header= 0 )"
   ]
  },
  {
   "cell_type": "code",
   "execution_count": 12,
   "id": "4c8b72e4",
   "metadata": {
    "scrolled": true
   },
   "outputs": [
    {
     "data": {
      "text/html": [
       "<div>\n",
       "<style scoped>\n",
       "    .dataframe tbody tr th:only-of-type {\n",
       "        vertical-align: middle;\n",
       "    }\n",
       "\n",
       "    .dataframe tbody tr th {\n",
       "        vertical-align: top;\n",
       "    }\n",
       "\n",
       "    .dataframe thead th {\n",
       "        text-align: right;\n",
       "    }\n",
       "</style>\n",
       "<table border=\"1\" class=\"dataframe\">\n",
       "  <thead>\n",
       "    <tr style=\"text-align: right;\">\n",
       "      <th></th>\n",
       "      <th>School_Year</th>\n",
       "      <th>Busbreakdown_ID</th>\n",
       "      <th>Run_Type</th>\n",
       "      <th>Bus_No</th>\n",
       "      <th>Route_Number</th>\n",
       "      <th>Reason</th>\n",
       "      <th>Schools_Serviced</th>\n",
       "      <th>Occurred_On</th>\n",
       "      <th>Created_On</th>\n",
       "      <th>Boro</th>\n",
       "      <th>...</th>\n",
       "      <th>How_Long_Delayed</th>\n",
       "      <th>Number_Of_Students_On_The_Bus</th>\n",
       "      <th>Has_Contractor_Notified_Schools</th>\n",
       "      <th>Has_Contractor_Notified_Parents</th>\n",
       "      <th>Have_You_Alerted_OPT</th>\n",
       "      <th>Informed_On</th>\n",
       "      <th>Last_Updated_On</th>\n",
       "      <th>Breakdown_or_Running_Late</th>\n",
       "      <th>School_Age_or_PreK</th>\n",
       "      <th>Unnamed: 20</th>\n",
       "    </tr>\n",
       "  </thead>\n",
       "  <tbody>\n",
       "    <tr>\n",
       "      <th>0</th>\n",
       "      <td>2015-2016</td>\n",
       "      <td>1227538</td>\n",
       "      <td>Special Ed AM Run</td>\n",
       "      <td>2621</td>\n",
       "      <td>J711</td>\n",
       "      <td>Heavy Traffic</td>\n",
       "      <td>75003</td>\n",
       "      <td>11/5/2015 8:10</td>\n",
       "      <td>11/5/2015 8:12</td>\n",
       "      <td>New Jersey</td>\n",
       "      <td>...</td>\n",
       "      <td>NaN</td>\n",
       "      <td>11</td>\n",
       "      <td>Yes</td>\n",
       "      <td>No</td>\n",
       "      <td>Yes</td>\n",
       "      <td>11/5/2015 8:12</td>\n",
       "      <td>11/5/2015 8:12</td>\n",
       "      <td>Running Late</td>\n",
       "      <td>School-Age</td>\n",
       "      <td>223198.0</td>\n",
       "    </tr>\n",
       "    <tr>\n",
       "      <th>1</th>\n",
       "      <td>2015-2016</td>\n",
       "      <td>1227539</td>\n",
       "      <td>Special Ed AM Run</td>\n",
       "      <td>1260</td>\n",
       "      <td>M351</td>\n",
       "      <td>Heavy Traffic</td>\n",
       "      <td>6716</td>\n",
       "      <td>11/5/2015 8:10</td>\n",
       "      <td>11/5/2015 8:12</td>\n",
       "      <td>Manhattan</td>\n",
       "      <td>...</td>\n",
       "      <td>20MNS</td>\n",
       "      <td>2</td>\n",
       "      <td>Yes</td>\n",
       "      <td>Yes</td>\n",
       "      <td>No</td>\n",
       "      <td>11/5/2015 8:12</td>\n",
       "      <td>11/5/2015 8:13</td>\n",
       "      <td>Running Late</td>\n",
       "      <td>School-Age</td>\n",
       "      <td>NaN</td>\n",
       "    </tr>\n",
       "    <tr>\n",
       "      <th>2</th>\n",
       "      <td>2015-2016</td>\n",
       "      <td>1227540</td>\n",
       "      <td>Pre-K/EI</td>\n",
       "      <td>418</td>\n",
       "      <td>3</td>\n",
       "      <td>Heavy Traffic</td>\n",
       "      <td>C445</td>\n",
       "      <td>11/5/2015 8:09</td>\n",
       "      <td>11/5/2015 8:13</td>\n",
       "      <td>Bronx</td>\n",
       "      <td>...</td>\n",
       "      <td>15MIN</td>\n",
       "      <td>8</td>\n",
       "      <td>Yes</td>\n",
       "      <td>Yes</td>\n",
       "      <td>Yes</td>\n",
       "      <td>11/5/2015 8:13</td>\n",
       "      <td>11/5/2015 8:13</td>\n",
       "      <td>Running Late</td>\n",
       "      <td>Pre-K</td>\n",
       "      <td>NaN</td>\n",
       "    </tr>\n",
       "    <tr>\n",
       "      <th>3</th>\n",
       "      <td>2015-2016</td>\n",
       "      <td>1227541</td>\n",
       "      <td>Special Ed AM Run</td>\n",
       "      <td>4522</td>\n",
       "      <td>M271</td>\n",
       "      <td>Heavy Traffic</td>\n",
       "      <td>2699</td>\n",
       "      <td>11/5/2015 8:12</td>\n",
       "      <td>11/5/2015 8:14</td>\n",
       "      <td>Manhattan</td>\n",
       "      <td>...</td>\n",
       "      <td>15 MIN</td>\n",
       "      <td>6</td>\n",
       "      <td>No</td>\n",
       "      <td>No</td>\n",
       "      <td>No</td>\n",
       "      <td>11/5/2015 8:14</td>\n",
       "      <td>11/5/2015 8:14</td>\n",
       "      <td>Running Late</td>\n",
       "      <td>School-Age</td>\n",
       "      <td>NaN</td>\n",
       "    </tr>\n",
       "    <tr>\n",
       "      <th>4</th>\n",
       "      <td>2015-2016</td>\n",
       "      <td>1227542</td>\n",
       "      <td>Special Ed AM Run</td>\n",
       "      <td>3124</td>\n",
       "      <td>M373</td>\n",
       "      <td>Heavy Traffic</td>\n",
       "      <td>2116</td>\n",
       "      <td>11/5/2015 8:13</td>\n",
       "      <td>11/5/2015 8:14</td>\n",
       "      <td>Manhattan</td>\n",
       "      <td>...</td>\n",
       "      <td>NaN</td>\n",
       "      <td>6</td>\n",
       "      <td>No</td>\n",
       "      <td>No</td>\n",
       "      <td>No</td>\n",
       "      <td>11/5/2015 8:14</td>\n",
       "      <td>11/5/2015 8:14</td>\n",
       "      <td>Running Late</td>\n",
       "      <td>School-Age</td>\n",
       "      <td>NaN</td>\n",
       "    </tr>\n",
       "  </tbody>\n",
       "</table>\n",
       "<p>5 rows × 21 columns</p>\n",
       "</div>"
      ],
      "text/plain": [
       "  School_Year  Busbreakdown_ID           Run_Type Bus_No Route_Number  \\\n",
       "0   2015-2016          1227538  Special Ed AM Run   2621         J711   \n",
       "1   2015-2016          1227539  Special Ed AM Run   1260         M351   \n",
       "2   2015-2016          1227540           Pre-K/EI    418            3   \n",
       "3   2015-2016          1227541  Special Ed AM Run   4522         M271   \n",
       "4   2015-2016          1227542  Special Ed AM Run   3124         M373   \n",
       "\n",
       "          Reason Schools_Serviced     Occurred_On      Created_On        Boro  \\\n",
       "0  Heavy Traffic            75003  11/5/2015 8:10  11/5/2015 8:12  New Jersey   \n",
       "1  Heavy Traffic             6716  11/5/2015 8:10  11/5/2015 8:12   Manhattan   \n",
       "2  Heavy Traffic             C445  11/5/2015 8:09  11/5/2015 8:13       Bronx   \n",
       "3  Heavy Traffic             2699  11/5/2015 8:12  11/5/2015 8:14   Manhattan   \n",
       "4  Heavy Traffic             2116  11/5/2015 8:13  11/5/2015 8:14   Manhattan   \n",
       "\n",
       "   ... How_Long_Delayed Number_Of_Students_On_The_Bus  \\\n",
       "0  ...              NaN                            11   \n",
       "1  ...            20MNS                             2   \n",
       "2  ...            15MIN                             8   \n",
       "3  ...           15 MIN                             6   \n",
       "4  ...              NaN                             6   \n",
       "\n",
       "   Has_Contractor_Notified_Schools Has_Contractor_Notified_Parents  \\\n",
       "0                              Yes                              No   \n",
       "1                              Yes                             Yes   \n",
       "2                              Yes                             Yes   \n",
       "3                               No                              No   \n",
       "4                               No                              No   \n",
       "\n",
       "  Have_You_Alerted_OPT     Informed_On Last_Updated_On  \\\n",
       "0                  Yes  11/5/2015 8:12  11/5/2015 8:12   \n",
       "1                   No  11/5/2015 8:12  11/5/2015 8:13   \n",
       "2                  Yes  11/5/2015 8:13  11/5/2015 8:13   \n",
       "3                   No  11/5/2015 8:14  11/5/2015 8:14   \n",
       "4                   No  11/5/2015 8:14  11/5/2015 8:14   \n",
       "\n",
       "  Breakdown_or_Running_Late School_Age_or_PreK Unnamed: 20  \n",
       "0              Running Late         School-Age    223198.0  \n",
       "1              Running Late         School-Age         NaN  \n",
       "2              Running Late              Pre-K         NaN  \n",
       "3              Running Late         School-Age         NaN  \n",
       "4              Running Late         School-Age         NaN  \n",
       "\n",
       "[5 rows x 21 columns]"
      ]
     },
     "execution_count": 12,
     "metadata": {},
     "output_type": "execute_result"
    }
   ],
   "source": [
    "df.head()"
   ]
  },
  {
   "cell_type": "code",
   "execution_count": 19,
   "id": "0c9724f4",
   "metadata": {},
   "outputs": [
    {
     "data": {
      "text/plain": [
       "173198   NaN\n",
       "173199   NaN\n",
       "173200   NaN\n",
       "173201   NaN\n",
       "173202   NaN\n",
       "          ..\n",
       "223193   NaN\n",
       "223194   NaN\n",
       "223195   NaN\n",
       "223196   NaN\n",
       "223197   NaN\n",
       "Name: Unnamed: 20, Length: 50000, dtype: float64"
      ]
     },
     "execution_count": 19,
     "metadata": {},
     "output_type": "execute_result"
    }
   ],
   "source": [
    "df[\"Unnamed: 20\"].tail(50000)"
   ]
  },
  {
   "cell_type": "code",
   "execution_count": 20,
   "id": "0fd6137a",
   "metadata": {},
   "outputs": [],
   "source": [
    "del df[\"Unnamed: 20\"]"
   ]
  },
  {
   "cell_type": "code",
   "execution_count": 21,
   "id": "258aaae0",
   "metadata": {},
   "outputs": [
    {
     "data": {
      "text/html": [
       "<div>\n",
       "<style scoped>\n",
       "    .dataframe tbody tr th:only-of-type {\n",
       "        vertical-align: middle;\n",
       "    }\n",
       "\n",
       "    .dataframe tbody tr th {\n",
       "        vertical-align: top;\n",
       "    }\n",
       "\n",
       "    .dataframe thead th {\n",
       "        text-align: right;\n",
       "    }\n",
       "</style>\n",
       "<table border=\"1\" class=\"dataframe\">\n",
       "  <thead>\n",
       "    <tr style=\"text-align: right;\">\n",
       "      <th></th>\n",
       "      <th>School_Year</th>\n",
       "      <th>Busbreakdown_ID</th>\n",
       "      <th>Run_Type</th>\n",
       "      <th>Bus_No</th>\n",
       "      <th>Route_Number</th>\n",
       "      <th>Reason</th>\n",
       "      <th>Schools_Serviced</th>\n",
       "      <th>Occurred_On</th>\n",
       "      <th>Created_On</th>\n",
       "      <th>Boro</th>\n",
       "      <th>Bus_Company_Name</th>\n",
       "      <th>How_Long_Delayed</th>\n",
       "      <th>Number_Of_Students_On_The_Bus</th>\n",
       "      <th>Has_Contractor_Notified_Schools</th>\n",
       "      <th>Has_Contractor_Notified_Parents</th>\n",
       "      <th>Have_You_Alerted_OPT</th>\n",
       "      <th>Informed_On</th>\n",
       "      <th>Last_Updated_On</th>\n",
       "      <th>Breakdown_or_Running_Late</th>\n",
       "      <th>School_Age_or_PreK</th>\n",
       "    </tr>\n",
       "  </thead>\n",
       "  <tbody>\n",
       "    <tr>\n",
       "      <th>0</th>\n",
       "      <td>2015-2016</td>\n",
       "      <td>1227538</td>\n",
       "      <td>Special Ed AM Run</td>\n",
       "      <td>2621</td>\n",
       "      <td>J711</td>\n",
       "      <td>Heavy Traffic</td>\n",
       "      <td>75003</td>\n",
       "      <td>11/5/2015 8:10</td>\n",
       "      <td>11/5/2015 8:12</td>\n",
       "      <td>New Jersey</td>\n",
       "      <td>RELIANT TRANS, INC. (B232</td>\n",
       "      <td>NaN</td>\n",
       "      <td>11</td>\n",
       "      <td>Yes</td>\n",
       "      <td>No</td>\n",
       "      <td>Yes</td>\n",
       "      <td>11/5/2015 8:12</td>\n",
       "      <td>11/5/2015 8:12</td>\n",
       "      <td>Running Late</td>\n",
       "      <td>School-Age</td>\n",
       "    </tr>\n",
       "    <tr>\n",
       "      <th>1</th>\n",
       "      <td>2015-2016</td>\n",
       "      <td>1227539</td>\n",
       "      <td>Special Ed AM Run</td>\n",
       "      <td>1260</td>\n",
       "      <td>M351</td>\n",
       "      <td>Heavy Traffic</td>\n",
       "      <td>6716</td>\n",
       "      <td>11/5/2015 8:10</td>\n",
       "      <td>11/5/2015 8:12</td>\n",
       "      <td>Manhattan</td>\n",
       "      <td>HOYT TRANSPORTATION CORP.</td>\n",
       "      <td>20MNS</td>\n",
       "      <td>2</td>\n",
       "      <td>Yes</td>\n",
       "      <td>Yes</td>\n",
       "      <td>No</td>\n",
       "      <td>11/5/2015 8:12</td>\n",
       "      <td>11/5/2015 8:13</td>\n",
       "      <td>Running Late</td>\n",
       "      <td>School-Age</td>\n",
       "    </tr>\n",
       "    <tr>\n",
       "      <th>2</th>\n",
       "      <td>2015-2016</td>\n",
       "      <td>1227540</td>\n",
       "      <td>Pre-K/EI</td>\n",
       "      <td>418</td>\n",
       "      <td>3</td>\n",
       "      <td>Heavy Traffic</td>\n",
       "      <td>C445</td>\n",
       "      <td>11/5/2015 8:09</td>\n",
       "      <td>11/5/2015 8:13</td>\n",
       "      <td>Bronx</td>\n",
       "      <td>G.V.C., LTD.</td>\n",
       "      <td>15MIN</td>\n",
       "      <td>8</td>\n",
       "      <td>Yes</td>\n",
       "      <td>Yes</td>\n",
       "      <td>Yes</td>\n",
       "      <td>11/5/2015 8:13</td>\n",
       "      <td>11/5/2015 8:13</td>\n",
       "      <td>Running Late</td>\n",
       "      <td>Pre-K</td>\n",
       "    </tr>\n",
       "    <tr>\n",
       "      <th>3</th>\n",
       "      <td>2015-2016</td>\n",
       "      <td>1227541</td>\n",
       "      <td>Special Ed AM Run</td>\n",
       "      <td>4522</td>\n",
       "      <td>M271</td>\n",
       "      <td>Heavy Traffic</td>\n",
       "      <td>2699</td>\n",
       "      <td>11/5/2015 8:12</td>\n",
       "      <td>11/5/2015 8:14</td>\n",
       "      <td>Manhattan</td>\n",
       "      <td>RELIANT TRANS, INC. (B232</td>\n",
       "      <td>15 MIN</td>\n",
       "      <td>6</td>\n",
       "      <td>No</td>\n",
       "      <td>No</td>\n",
       "      <td>No</td>\n",
       "      <td>11/5/2015 8:14</td>\n",
       "      <td>11/5/2015 8:14</td>\n",
       "      <td>Running Late</td>\n",
       "      <td>School-Age</td>\n",
       "    </tr>\n",
       "    <tr>\n",
       "      <th>4</th>\n",
       "      <td>2015-2016</td>\n",
       "      <td>1227542</td>\n",
       "      <td>Special Ed AM Run</td>\n",
       "      <td>3124</td>\n",
       "      <td>M373</td>\n",
       "      <td>Heavy Traffic</td>\n",
       "      <td>2116</td>\n",
       "      <td>11/5/2015 8:13</td>\n",
       "      <td>11/5/2015 8:14</td>\n",
       "      <td>Manhattan</td>\n",
       "      <td>RELIANT TRANS, INC. (B232</td>\n",
       "      <td>NaN</td>\n",
       "      <td>6</td>\n",
       "      <td>No</td>\n",
       "      <td>No</td>\n",
       "      <td>No</td>\n",
       "      <td>11/5/2015 8:14</td>\n",
       "      <td>11/5/2015 8:14</td>\n",
       "      <td>Running Late</td>\n",
       "      <td>School-Age</td>\n",
       "    </tr>\n",
       "  </tbody>\n",
       "</table>\n",
       "</div>"
      ],
      "text/plain": [
       "  School_Year  Busbreakdown_ID           Run_Type Bus_No Route_Number  \\\n",
       "0   2015-2016          1227538  Special Ed AM Run   2621         J711   \n",
       "1   2015-2016          1227539  Special Ed AM Run   1260         M351   \n",
       "2   2015-2016          1227540           Pre-K/EI    418            3   \n",
       "3   2015-2016          1227541  Special Ed AM Run   4522         M271   \n",
       "4   2015-2016          1227542  Special Ed AM Run   3124         M373   \n",
       "\n",
       "          Reason Schools_Serviced     Occurred_On      Created_On        Boro  \\\n",
       "0  Heavy Traffic            75003  11/5/2015 8:10  11/5/2015 8:12  New Jersey   \n",
       "1  Heavy Traffic             6716  11/5/2015 8:10  11/5/2015 8:12   Manhattan   \n",
       "2  Heavy Traffic             C445  11/5/2015 8:09  11/5/2015 8:13       Bronx   \n",
       "3  Heavy Traffic             2699  11/5/2015 8:12  11/5/2015 8:14   Manhattan   \n",
       "4  Heavy Traffic             2116  11/5/2015 8:13  11/5/2015 8:14   Manhattan   \n",
       "\n",
       "            Bus_Company_Name How_Long_Delayed  Number_Of_Students_On_The_Bus  \\\n",
       "0  RELIANT TRANS, INC. (B232              NaN                             11   \n",
       "1  HOYT TRANSPORTATION CORP.            20MNS                              2   \n",
       "2               G.V.C., LTD.            15MIN                              8   \n",
       "3  RELIANT TRANS, INC. (B232           15 MIN                              6   \n",
       "4  RELIANT TRANS, INC. (B232              NaN                              6   \n",
       "\n",
       "  Has_Contractor_Notified_Schools Has_Contractor_Notified_Parents  \\\n",
       "0                             Yes                              No   \n",
       "1                             Yes                             Yes   \n",
       "2                             Yes                             Yes   \n",
       "3                              No                              No   \n",
       "4                              No                              No   \n",
       "\n",
       "  Have_You_Alerted_OPT     Informed_On Last_Updated_On  \\\n",
       "0                  Yes  11/5/2015 8:12  11/5/2015 8:12   \n",
       "1                   No  11/5/2015 8:12  11/5/2015 8:13   \n",
       "2                  Yes  11/5/2015 8:13  11/5/2015 8:13   \n",
       "3                   No  11/5/2015 8:14  11/5/2015 8:14   \n",
       "4                   No  11/5/2015 8:14  11/5/2015 8:14   \n",
       "\n",
       "  Breakdown_or_Running_Late School_Age_or_PreK  \n",
       "0              Running Late         School-Age  \n",
       "1              Running Late         School-Age  \n",
       "2              Running Late              Pre-K  \n",
       "3              Running Late         School-Age  \n",
       "4              Running Late         School-Age  "
      ]
     },
     "execution_count": 21,
     "metadata": {},
     "output_type": "execute_result"
    }
   ],
   "source": [
    "df.head()"
   ]
  },
  {
   "cell_type": "code",
   "execution_count": 23,
   "id": "c98c4d61",
   "metadata": {},
   "outputs": [
    {
     "data": {
      "text/html": [
       "<div>\n",
       "<style scoped>\n",
       "    .dataframe tbody tr th:only-of-type {\n",
       "        vertical-align: middle;\n",
       "    }\n",
       "\n",
       "    .dataframe tbody tr th {\n",
       "        vertical-align: top;\n",
       "    }\n",
       "\n",
       "    .dataframe thead th {\n",
       "        text-align: right;\n",
       "    }\n",
       "</style>\n",
       "<table border=\"1\" class=\"dataframe\">\n",
       "  <thead>\n",
       "    <tr style=\"text-align: right;\">\n",
       "      <th></th>\n",
       "      <th>Busbreakdown_ID</th>\n",
       "      <th>Number_Of_Students_On_The_Bus</th>\n",
       "    </tr>\n",
       "  </thead>\n",
       "  <tbody>\n",
       "    <tr>\n",
       "      <th>count</th>\n",
       "      <td>2.231980e+05</td>\n",
       "      <td>223198.000000</td>\n",
       "    </tr>\n",
       "    <tr>\n",
       "      <th>mean</th>\n",
       "      <td>1.376302e+06</td>\n",
       "      <td>3.177690</td>\n",
       "    </tr>\n",
       "    <tr>\n",
       "      <th>std</th>\n",
       "      <td>1.464530e+05</td>\n",
       "      <td>58.491775</td>\n",
       "    </tr>\n",
       "    <tr>\n",
       "      <th>min</th>\n",
       "      <td>1.212681e+06</td>\n",
       "      <td>0.000000</td>\n",
       "    </tr>\n",
       "    <tr>\n",
       "      <th>25%</th>\n",
       "      <td>1.269468e+06</td>\n",
       "      <td>0.000000</td>\n",
       "    </tr>\n",
       "    <tr>\n",
       "      <th>50%</th>\n",
       "      <td>1.325826e+06</td>\n",
       "      <td>0.000000</td>\n",
       "    </tr>\n",
       "    <tr>\n",
       "      <th>75%</th>\n",
       "      <td>1.447339e+06</td>\n",
       "      <td>3.000000</td>\n",
       "    </tr>\n",
       "    <tr>\n",
       "      <th>max</th>\n",
       "      <td>1.781947e+06</td>\n",
       "      <td>9350.000000</td>\n",
       "    </tr>\n",
       "  </tbody>\n",
       "</table>\n",
       "</div>"
      ],
      "text/plain": [
       "       Busbreakdown_ID  Number_Of_Students_On_The_Bus\n",
       "count     2.231980e+05                  223198.000000\n",
       "mean      1.376302e+06                       3.177690\n",
       "std       1.464530e+05                      58.491775\n",
       "min       1.212681e+06                       0.000000\n",
       "25%       1.269468e+06                       0.000000\n",
       "50%       1.325826e+06                       0.000000\n",
       "75%       1.447339e+06                       3.000000\n",
       "max       1.781947e+06                    9350.000000"
      ]
     },
     "execution_count": 23,
     "metadata": {},
     "output_type": "execute_result"
    }
   ],
   "source": [
    "df.describe()"
   ]
  },
  {
   "cell_type": "code",
   "execution_count": 25,
   "id": "6fcdae1e",
   "metadata": {},
   "outputs": [
    {
     "name": "stdout",
     "output_type": "stream",
     "text": [
      "<class 'pandas.core.frame.DataFrame'>\n",
      "RangeIndex: 223198 entries, 0 to 223197\n",
      "Data columns (total 20 columns):\n",
      " #   Column                           Non-Null Count   Dtype \n",
      "---  ------                           --------------   ----- \n",
      " 0   School_Year                      223198 non-null  object\n",
      " 1   Busbreakdown_ID                  223198 non-null  int64 \n",
      " 2   Run_Type                         223196 non-null  object\n",
      " 3   Bus_No                           223195 non-null  object\n",
      " 4   Route_Number                     223198 non-null  object\n",
      " 5   Reason                           223198 non-null  object\n",
      " 6   Schools_Serviced                 223198 non-null  object\n",
      " 7   Occurred_On                      223198 non-null  object\n",
      " 8   Created_On                       223198 non-null  object\n",
      " 9   Boro                             216458 non-null  object\n",
      " 10  Bus_Company_Name                 223198 non-null  object\n",
      " 11  How_Long_Delayed                 169134 non-null  object\n",
      " 12  Number_Of_Students_On_The_Bus    223198 non-null  int64 \n",
      " 13  Has_Contractor_Notified_Schools  223198 non-null  object\n",
      " 14  Has_Contractor_Notified_Parents  223198 non-null  object\n",
      " 15  Have_You_Alerted_OPT             223198 non-null  object\n",
      " 16  Informed_On                      223198 non-null  object\n",
      " 17  Last_Updated_On                  223198 non-null  object\n",
      " 18  Breakdown_or_Running_Late        223198 non-null  object\n",
      " 19  School_Age_or_PreK               223198 non-null  object\n",
      "dtypes: int64(2), object(18)\n",
      "memory usage: 34.1+ MB\n"
     ]
    }
   ],
   "source": [
    "df.info()"
   ]
  },
  {
   "cell_type": "code",
   "execution_count": 26,
   "id": "368c6aa0",
   "metadata": {},
   "outputs": [
    {
     "data": {
      "text/plain": [
       "School_Year                            0\n",
       "Busbreakdown_ID                        0\n",
       "Run_Type                               2\n",
       "Bus_No                                 3\n",
       "Route_Number                           0\n",
       "Reason                                 0\n",
       "Schools_Serviced                       0\n",
       "Occurred_On                            0\n",
       "Created_On                             0\n",
       "Boro                                6740\n",
       "Bus_Company_Name                       0\n",
       "How_Long_Delayed                   54064\n",
       "Number_Of_Students_On_The_Bus          0\n",
       "Has_Contractor_Notified_Schools        0\n",
       "Has_Contractor_Notified_Parents        0\n",
       "Have_You_Alerted_OPT                   0\n",
       "Informed_On                            0\n",
       "Last_Updated_On                        0\n",
       "Breakdown_or_Running_Late              0\n",
       "School_Age_or_PreK                     0\n",
       "dtype: int64"
      ]
     },
     "execution_count": 26,
     "metadata": {},
     "output_type": "execute_result"
    }
   ],
   "source": [
    "df.isnull().sum()"
   ]
  },
  {
   "cell_type": "markdown",
   "id": "12de4dc0",
   "metadata": {},
   "source": [
    "## Remove columns that have 20% of its data missing "
   ]
  },
  {
   "cell_type": "code",
   "execution_count": 28,
   "id": "1757bde2",
   "metadata": {},
   "outputs": [
    {
     "data": {
      "text/plain": [
       "178558.40000000002"
      ]
     },
     "execution_count": 28,
     "metadata": {},
     "output_type": "execute_result"
    }
   ],
   "source": [
    "threshold= len(df) * 0.80\n",
    "threshold"
   ]
  },
  {
   "cell_type": "code",
   "execution_count": 30,
   "id": "9018fddf",
   "metadata": {},
   "outputs": [],
   "source": [
    "df.dropna(thresh= threshold, axis= 1, inplace= True)"
   ]
  },
  {
   "cell_type": "code",
   "execution_count": 32,
   "id": "caf5e9d9",
   "metadata": {},
   "outputs": [
    {
     "data": {
      "text/plain": [
       "School_Year                           0\n",
       "Busbreakdown_ID                       0\n",
       "Run_Type                              2\n",
       "Bus_No                                3\n",
       "Route_Number                          0\n",
       "Reason                                0\n",
       "Schools_Serviced                      0\n",
       "Occurred_On                           0\n",
       "Created_On                            0\n",
       "Boro                               6740\n",
       "Bus_Company_Name                      0\n",
       "Number_Of_Students_On_The_Bus         0\n",
       "Has_Contractor_Notified_Schools       0\n",
       "Has_Contractor_Notified_Parents       0\n",
       "Have_You_Alerted_OPT                  0\n",
       "Informed_On                           0\n",
       "Last_Updated_On                       0\n",
       "Breakdown_or_Running_Late             0\n",
       "School_Age_or_PreK                    0\n",
       "dtype: int64"
      ]
     },
     "execution_count": 32,
     "metadata": {},
     "output_type": "execute_result"
    }
   ],
   "source": [
    "df.isnull().sum()"
   ]
  },
  {
   "cell_type": "markdown",
   "id": "982f3662",
   "metadata": {},
   "source": [
    "## FIll in the missing values"
   ]
  },
  {
   "cell_type": "code",
   "execution_count": 36,
   "id": "fb185211",
   "metadata": {},
   "outputs": [
    {
     "name": "stdout",
     "output_type": "stream",
     "text": [
      "0    Special Ed AM Run\n",
      "Name: Run_Type, dtype: object\n",
      "0    357\n",
      "Name: Bus_No, dtype: object\n",
      "0    Bronx\n",
      "Name: Boro, dtype: object\n"
     ]
    }
   ],
   "source": [
    "# Check the mode of the categorical values\n",
    "print(df[\"Run_Type\"].mode())\n",
    "print(df[\"Bus_No\"].mode())\n",
    "print(df[\"Boro\"].mode())\n"
   ]
  },
  {
   "cell_type": "code",
   "execution_count": 37,
   "id": "19b989ee",
   "metadata": {},
   "outputs": [],
   "source": [
    "df[\"Run_Type\"].fillna(str(df[\"Run_Type\"].mode().values[0]), inplace= True)\n",
    "df[\"Bus_No\"].fillna(str(df[\"Bus_No\"].mode().values[0]), inplace= True)\n",
    "df[\"Boro\"].fillna(str(df[\"Boro\"].mode().values[0]), inplace= True)"
   ]
  },
  {
   "cell_type": "code",
   "execution_count": 40,
   "id": "e82868b1",
   "metadata": {},
   "outputs": [
    {
     "data": {
      "text/plain": [
       "School_Year                        0\n",
       "Busbreakdown_ID                    0\n",
       "Run_Type                           0\n",
       "Bus_No                             0\n",
       "Route_Number                       0\n",
       "Reason                             0\n",
       "Schools_Serviced                   0\n",
       "Occurred_On                        0\n",
       "Created_On                         0\n",
       "Boro                               0\n",
       "Bus_Company_Name                   0\n",
       "Number_Of_Students_On_The_Bus      0\n",
       "Has_Contractor_Notified_Schools    0\n",
       "Has_Contractor_Notified_Parents    0\n",
       "Have_You_Alerted_OPT               0\n",
       "Informed_On                        0\n",
       "Last_Updated_On                    0\n",
       "Breakdown_or_Running_Late          0\n",
       "School_Age_or_PreK                 0\n",
       "dtype: int64"
      ]
     },
     "execution_count": 40,
     "metadata": {},
     "output_type": "execute_result"
    }
   ],
   "source": [
    "df.isnull().sum()"
   ]
  },
  {
   "cell_type": "markdown",
   "id": "dfe3e38b",
   "metadata": {},
   "source": [
    "## Check for outliers "
   ]
  },
  {
   "cell_type": "code",
   "execution_count": 41,
   "id": "1cb570df",
   "metadata": {},
   "outputs": [
    {
     "data": {
      "text/html": [
       "<div>\n",
       "<style scoped>\n",
       "    .dataframe tbody tr th:only-of-type {\n",
       "        vertical-align: middle;\n",
       "    }\n",
       "\n",
       "    .dataframe tbody tr th {\n",
       "        vertical-align: top;\n",
       "    }\n",
       "\n",
       "    .dataframe thead th {\n",
       "        text-align: right;\n",
       "    }\n",
       "</style>\n",
       "<table border=\"1\" class=\"dataframe\">\n",
       "  <thead>\n",
       "    <tr style=\"text-align: right;\">\n",
       "      <th></th>\n",
       "      <th>Busbreakdown_ID</th>\n",
       "      <th>Number_Of_Students_On_The_Bus</th>\n",
       "    </tr>\n",
       "  </thead>\n",
       "  <tbody>\n",
       "    <tr>\n",
       "      <th>count</th>\n",
       "      <td>2.231980e+05</td>\n",
       "      <td>223198.000000</td>\n",
       "    </tr>\n",
       "    <tr>\n",
       "      <th>mean</th>\n",
       "      <td>1.376302e+06</td>\n",
       "      <td>3.177690</td>\n",
       "    </tr>\n",
       "    <tr>\n",
       "      <th>std</th>\n",
       "      <td>1.464530e+05</td>\n",
       "      <td>58.491775</td>\n",
       "    </tr>\n",
       "    <tr>\n",
       "      <th>min</th>\n",
       "      <td>1.212681e+06</td>\n",
       "      <td>0.000000</td>\n",
       "    </tr>\n",
       "    <tr>\n",
       "      <th>25%</th>\n",
       "      <td>1.269468e+06</td>\n",
       "      <td>0.000000</td>\n",
       "    </tr>\n",
       "    <tr>\n",
       "      <th>50%</th>\n",
       "      <td>1.325826e+06</td>\n",
       "      <td>0.000000</td>\n",
       "    </tr>\n",
       "    <tr>\n",
       "      <th>75%</th>\n",
       "      <td>1.447339e+06</td>\n",
       "      <td>3.000000</td>\n",
       "    </tr>\n",
       "    <tr>\n",
       "      <th>max</th>\n",
       "      <td>1.781947e+06</td>\n",
       "      <td>9350.000000</td>\n",
       "    </tr>\n",
       "  </tbody>\n",
       "</table>\n",
       "</div>"
      ],
      "text/plain": [
       "       Busbreakdown_ID  Number_Of_Students_On_The_Bus\n",
       "count     2.231980e+05                  223198.000000\n",
       "mean      1.376302e+06                       3.177690\n",
       "std       1.464530e+05                      58.491775\n",
       "min       1.212681e+06                       0.000000\n",
       "25%       1.269468e+06                       0.000000\n",
       "50%       1.325826e+06                       0.000000\n",
       "75%       1.447339e+06                       3.000000\n",
       "max       1.781947e+06                    9350.000000"
      ]
     },
     "execution_count": 41,
     "metadata": {},
     "output_type": "execute_result"
    }
   ],
   "source": [
    "df.describe()"
   ]
  },
  {
   "cell_type": "code",
   "execution_count": 42,
   "id": "22aebb02",
   "metadata": {},
   "outputs": [
    {
     "data": {
      "text/plain": [
       "<seaborn.axisgrid.JointGrid at 0x238545bfdc0>"
      ]
     },
     "execution_count": 42,
     "metadata": {},
     "output_type": "execute_result"
    },
    {
     "data": {
      "image/png": "[encoded data removed]",
      "text/plain": [
       "<Figure size 600x600 with 3 Axes>"
      ]
     },
     "metadata": {},
     "output_type": "display_data"
    }
   ],
   "source": [
    "sns.jointplot(x= \"Number_Of_Students_On_The_Bus\", y= \"Busbreakdown_ID\", data= df)"
   ]
  },
  {
   "cell_type": "markdown",
   "id": "68319fa5",
   "metadata": {},
   "source": [
    "## I'm going to delete the outliers cause they are impossible values"
   ]
  },
  {
   "cell_type": "code",
   "execution_count": 43,
   "id": "c27d45ed",
   "metadata": {},
   "outputs": [
    {
     "data": {
      "text/html": [
       "<div>\n",
       "<style scoped>\n",
       "    .dataframe tbody tr th:only-of-type {\n",
       "        vertical-align: middle;\n",
       "    }\n",
       "\n",
       "    .dataframe tbody tr th {\n",
       "        vertical-align: top;\n",
       "    }\n",
       "\n",
       "    .dataframe thead th {\n",
       "        text-align: right;\n",
       "    }\n",
       "</style>\n",
       "<table border=\"1\" class=\"dataframe\">\n",
       "  <thead>\n",
       "    <tr style=\"text-align: right;\">\n",
       "      <th></th>\n",
       "      <th>Busbreakdown_ID</th>\n",
       "      <th>Number_Of_Students_On_The_Bus</th>\n",
       "    </tr>\n",
       "  </thead>\n",
       "  <tbody>\n",
       "    <tr>\n",
       "      <th>count</th>\n",
       "      <td>2.231980e+05</td>\n",
       "      <td>223198.000000</td>\n",
       "    </tr>\n",
       "    <tr>\n",
       "      <th>mean</th>\n",
       "      <td>1.376302e+06</td>\n",
       "      <td>3.177690</td>\n",
       "    </tr>\n",
       "    <tr>\n",
       "      <th>std</th>\n",
       "      <td>1.464530e+05</td>\n",
       "      <td>58.491775</td>\n",
       "    </tr>\n",
       "    <tr>\n",
       "      <th>min</th>\n",
       "      <td>1.212681e+06</td>\n",
       "      <td>0.000000</td>\n",
       "    </tr>\n",
       "    <tr>\n",
       "      <th>25%</th>\n",
       "      <td>1.269468e+06</td>\n",
       "      <td>0.000000</td>\n",
       "    </tr>\n",
       "    <tr>\n",
       "      <th>50%</th>\n",
       "      <td>1.325826e+06</td>\n",
       "      <td>0.000000</td>\n",
       "    </tr>\n",
       "    <tr>\n",
       "      <th>75%</th>\n",
       "      <td>1.447339e+06</td>\n",
       "      <td>3.000000</td>\n",
       "    </tr>\n",
       "    <tr>\n",
       "      <th>max</th>\n",
       "      <td>1.781947e+06</td>\n",
       "      <td>9350.000000</td>\n",
       "    </tr>\n",
       "  </tbody>\n",
       "</table>\n",
       "</div>"
      ],
      "text/plain": [
       "       Busbreakdown_ID  Number_Of_Students_On_The_Bus\n",
       "count     2.231980e+05                  223198.000000\n",
       "mean      1.376302e+06                       3.177690\n",
       "std       1.464530e+05                      58.491775\n",
       "min       1.212681e+06                       0.000000\n",
       "25%       1.269468e+06                       0.000000\n",
       "50%       1.325826e+06                       0.000000\n",
       "75%       1.447339e+06                       3.000000\n",
       "max       1.781947e+06                    9350.000000"
      ]
     },
     "execution_count": 43,
     "metadata": {},
     "output_type": "execute_result"
    }
   ],
   "source": [
    "df.describe()"
   ]
  },
  {
   "cell_type": "code",
   "execution_count": 70,
   "id": "7ee7fce4",
   "metadata": {},
   "outputs": [
    {
     "data": {
      "text/plain": [
       "57.0"
      ]
     },
     "execution_count": 70,
     "metadata": {},
     "output_type": "execute_result"
    }
   ],
   "source": [
    "uv= np.percentile(df[\"Number_Of_Students_On_The_Bus\"], [99])[0]\n",
    "3*uv"
   ]
  },
  {
   "cell_type": "code",
   "execution_count": 71,
   "id": "8a238bb2",
   "metadata": {},
   "outputs": [],
   "source": [
    "df.drop(df[(df[\"Number_Of_Students_On_The_Bus\"] > 3*uv)].index, inplace= True)"
   ]
  },
  {
   "cell_type": "code",
   "execution_count": 74,
   "id": "b1ab4316",
   "metadata": {},
   "outputs": [
    {
     "data": {
      "text/html": [
       "<div>\n",
       "<style scoped>\n",
       "    .dataframe tbody tr th:only-of-type {\n",
       "        vertical-align: middle;\n",
       "    }\n",
       "\n",
       "    .dataframe tbody tr th {\n",
       "        vertical-align: top;\n",
       "    }\n",
       "\n",
       "    .dataframe thead th {\n",
       "        text-align: right;\n",
       "    }\n",
       "</style>\n",
       "<table border=\"1\" class=\"dataframe\">\n",
       "  <thead>\n",
       "    <tr style=\"text-align: right;\">\n",
       "      <th></th>\n",
       "      <th>Busbreakdown_ID</th>\n",
       "      <th>Number_Of_Students_On_The_Bus</th>\n",
       "    </tr>\n",
       "  </thead>\n",
       "  <tbody>\n",
       "    <tr>\n",
       "      <th>count</th>\n",
       "      <td>2.211060e+05</td>\n",
       "      <td>221106.000000</td>\n",
       "    </tr>\n",
       "    <tr>\n",
       "      <th>mean</th>\n",
       "      <td>1.376673e+06</td>\n",
       "      <td>1.970648</td>\n",
       "    </tr>\n",
       "    <tr>\n",
       "      <th>std</th>\n",
       "      <td>1.465813e+05</td>\n",
       "      <td>3.298201</td>\n",
       "    </tr>\n",
       "    <tr>\n",
       "      <th>min</th>\n",
       "      <td>1.212681e+06</td>\n",
       "      <td>0.000000</td>\n",
       "    </tr>\n",
       "    <tr>\n",
       "      <th>25%</th>\n",
       "      <td>1.269752e+06</td>\n",
       "      <td>0.000000</td>\n",
       "    </tr>\n",
       "    <tr>\n",
       "      <th>50%</th>\n",
       "      <td>1.326052e+06</td>\n",
       "      <td>0.000000</td>\n",
       "    </tr>\n",
       "    <tr>\n",
       "      <th>75%</th>\n",
       "      <td>1.448045e+06</td>\n",
       "      <td>3.000000</td>\n",
       "    </tr>\n",
       "    <tr>\n",
       "      <th>max</th>\n",
       "      <td>1.781947e+06</td>\n",
       "      <td>19.000000</td>\n",
       "    </tr>\n",
       "  </tbody>\n",
       "</table>\n",
       "</div>"
      ],
      "text/plain": [
       "       Busbreakdown_ID  Number_Of_Students_On_The_Bus\n",
       "count     2.211060e+05                  221106.000000\n",
       "mean      1.376673e+06                       1.970648\n",
       "std       1.465813e+05                       3.298201\n",
       "min       1.212681e+06                       0.000000\n",
       "25%       1.269752e+06                       0.000000\n",
       "50%       1.326052e+06                       0.000000\n",
       "75%       1.448045e+06                       3.000000\n",
       "max       1.781947e+06                      19.000000"
      ]
     },
     "execution_count": 74,
     "metadata": {},
     "output_type": "execute_result"
    }
   ],
   "source": [
    "df.describe()"
   ]
  },
  {
   "cell_type": "code",
   "execution_count": 73,
   "id": "a7926797",
   "metadata": {},
   "outputs": [
    {
     "data": {
      "text/plain": [
       "<seaborn.axisgrid.JointGrid at 0x2381e60ec70>"
      ]
     },
     "execution_count": 73,
     "metadata": {},
     "output_type": "execute_result"
    },
    {
     "data": {
      "image/png": "[encoded data removed]",
      "text/plain": [
       "<Figure size 600x600 with 3 Axes>"
      ]
     },
     "metadata": {},
     "output_type": "display_data"
    }
   ],
   "source": [
    "sns.jointplot(x= \"Number_Of_Students_On_The_Bus\", y= \"Busbreakdown_ID\", data= df)"
   ]
  },
  {
   "cell_type": "code",
   "execution_count": 76,
   "id": "f951c448",
   "metadata": {},
   "outputs": [],
   "source": [
    "df.to_csv(\"new_bus_breakdowns.csv\")"
   ]
  },
  {
   "cell_type": "code",
   "execution_count": null,
   "id": "a355ce80",
   "metadata": {},
   "outputs": [],
   "source": []
  },
  {
   "cell_type": "code",
   "execution_count": null,
   "id": "72de9c59",
   "metadata": {},
   "outputs": [],
   "source": []
  },
  {
   "cell_type": "code",
   "execution_count": null,
   "id": "4612d126",
   "metadata": {},
   "outputs": [],
   "source": []
  },
  {
   "cell_type": "code",
   "execution_count": null,
   "id": "84c931d2",
   "metadata": {},
   "outputs": [],
   "source": []
  },
  {
   "cell_type": "code",
   "execution_count": null,
   "id": "5fb76a39",
   "metadata": {},
   "outputs": [],
   "source": []
  },
  {
   "cell_type": "code",
   "execution_count": null,
   "id": "20f6aa61",
   "metadata": {},
   "outputs": [],
   "source": []
  },
  {
   "cell_type": "code",
   "execution_count": null,
   "id": "b8f50ade",
   "metadata": {},
   "outputs": [],
   "source": []
  },
  {
   "cell_type": "code",
   "execution_count": null,
   "id": "8b4bd6b3",
   "metadata": {},
   "outputs": [],
   "source": []
  },
  {
   "cell_type": "code",
   "execution_count": null,
   "id": "0ffba53c",
   "metadata": {},
   "outputs": [],
   "source": []
  },
  {
   "cell_type": "code",
   "execution_count": null,
   "id": "5811a253",
   "metadata": {},
   "outputs": [],
   "source": []
  },
  {
   "cell_type": "code",
   "execution_count": null,
   "id": "665b374e",
   "metadata": {},
   "outputs": [],
   "source": []
  },
  {
   "cell_type": "code",
   "execution_count": null,
   "id": "bb1b818a",
   "metadata": {},
   "outputs": [],
   "source": []
  },
  {
   "cell_type": "code",
   "execution_count": null,
   "id": "722c0ad1",
   "metadata": {},
   "outputs": [],
   "source": []
  },
  {
   "cell_type": "code",
   "execution_count": null,
   "id": "5d3496b1",
   "metadata": {},
   "outputs": [],
   "source": []
  },
  {
   "cell_type": "code",
   "execution_count": null,
   "id": "ba5c3474",
   "metadata": {},
   "outputs": [],
   "source": []
  }
 ],
 "metadata": {
  "kernelspec": {
   "display_name": "Python 3 (ipykernel)",
   "language": "python",
   "name": "python3"
  },
  "language_info": {
   "codemirror_mode": {
    "name": "ipython",
    "version": 3
   },
   "file_extension": ".py",
   "mimetype": "text/x-python",
   "name": "python",
   "nbconvert_exporter": "python",
   "pygments_lexer": "ipython3",
   "version": "3.9.13"
  }
 },
 "nbformat": 4,
 "nbformat_minor": 5
}
